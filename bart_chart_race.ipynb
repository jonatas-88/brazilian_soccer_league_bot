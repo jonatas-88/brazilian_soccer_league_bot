{
 "cells": [
  {
   "cell_type": "code",
   "execution_count": 1,
   "source": [
    "import os\r\n",
    "import configparser\r\n",
    "import glob\r\n",
    "import pandas as pd\r\n",
    "import ffmpeg\r\n",
    "import matplotlib\r\n",
    "from datetime import datetime\r\n",
    "import bar_chart_race as bcr\r\n",
    "\r\n",
    "init_config_file_name = 'bot_campeonato_brasileiro_2021.ini'\r\n",
    "\r\n",
    "#IMPORT CONFIG FROM FILE .INI\r\n",
    "#cwd = os.path.dirname(sys.argv[0]) #working on linux server or windows python script\r\n",
    "cwd = os.getcwd() #working on windows during python notebook execution\r\n",
    "cfg = configparser.ConfigParser()\r\n",
    "ini_config_path = os.path.join(cwd,init_config_file_name)\r\n",
    "cfg.read(ini_config_path)\r\n",
    "exported_folder = cfg['general_config']['exported_folder']\r\n",
    "bar_chart_race_video_folder = cfg['general_config']['bar_chart_race_video_folder']\r\n",
    "pattern_name_positions = cfg['general_config']['pattern_name_positions']"
   ],
   "outputs": [],
   "metadata": {}
  },
  {
   "cell_type": "code",
   "execution_count": 2,
   "source": [
    "#FUNCTIONS\r\n",
    "#FUNCTION TO TRANSFORM EACH CSV INTO DATAFRAME\r\n",
    "def transform_data_frame(csv_file,act_serie,act_factor):\r\n",
    "    #IDENTIFY FILE DATE PATTERN\r\n",
    "    file_date = csv_file.removeprefix(exported_files_pattern)\r\n",
    "    file_date = file_date.removesuffix('.csv')\r\n",
    "    file_date = datetime.strptime(file_date, '%Y%m%d_%H%M%S').strftime('%Y-%m-%d %H:%M:%S')\r\n",
    "    #TRANSFORM DATA FRAME\r\n",
    "    df = pd.read_csv(csv_file)\r\n",
    "    df = df[df.serie == act_serie]\r\n",
    "    df = df[['colocacao', 'nome']]\r\n",
    "    count_items = len(df['nome'])\r\n",
    "    df['colocacao'] = df['colocacao'].apply(lambda x: (count_items - x) + (act_factor * count_items))\r\n",
    "    df = df.set_index('nome')\r\n",
    "    df = df.sort_index()\r\n",
    "    df = df.rename(columns={'colocacao': file_date})\r\n",
    "    df = df.T\r\n",
    "    return df"
   ],
   "outputs": [],
   "metadata": {}
  },
  {
   "cell_type": "code",
   "execution_count": 3,
   "source": [
    "#READING CSV FILES FROM FOLDER\r\n",
    "exported_files_pattern = os.path.join(exported_folder,pattern_name_positions)\r\n",
    "exported_files_list = glob.glob(exported_files_pattern + '*.csv')"
   ],
   "outputs": [],
   "metadata": {}
  },
  {
   "cell_type": "code",
   "execution_count": 4,
   "source": [
    "#CREATE DATA FRAME FROM CSV FILES WITH DATA TRANFORMED\r\n",
    "df_list = []\r\n",
    "act_serie = 'a'\r\n",
    "for key, item in enumerate(exported_files_list):\r\n",
    "    csv_file = item\r\n",
    "    act_factor = key\r\n",
    "    df_act = transform_data_frame(csv_file,act_serie,act_factor)\r\n",
    "    df_list.append(df_act)\r\n",
    "df_final = pd.concat(df_list)"
   ],
   "outputs": [],
   "metadata": {}
  },
  {
   "cell_type": "code",
   "execution_count": 5,
   "source": [
    "#EXPORT VIDEO FILE\r\n",
    "time_now = datetime.now().strftime(\"%Y%m%d_%H%M%S\")\r\n",
    "file_name = os.path.join(bar_chart_race_video_folder, 'bar_chart_race_' + time_now + '.mp4')\r\n",
    "bcr.bar_chart_race(\r\n",
    "    df=df_final,\r\n",
    "    filename=file_name,\r\n",
    "    n_bars=10,\r\n",
    "    fixed_max=True,\r\n",
    "    )"
   ],
   "outputs": [
    {
     "output_type": "stream",
     "name": "stderr",
     "text": [
      "C:\\Users\\jonat\\miniconda3\\lib\\site-packages\\bar_chart_race\\_make_chart.py:286: UserWarning: FixedFormatter should only be used together with FixedLocator\n",
      "  ax.set_yticklabels(self.df_values.columns)\n",
      "C:\\Users\\jonat\\miniconda3\\lib\\site-packages\\bar_chart_race\\_make_chart.py:287: UserWarning: FixedFormatter should only be used together with FixedLocator\n",
      "  ax.set_xticklabels([max_val] * len(ax.get_xticks()))\n",
      "C:\\Users\\jonat\\miniconda3\\lib\\site-packages\\bar_chart_race\\_make_chart.py:226: UserWarning: Some of your columns never make an appearance in the animation. To reduce color repetition, set `filter_column_colors` to `True`\n",
      "  warnings.warn(\"Some of your columns never make an appearance in the animation. \"\n"
     ]
    }
   ],
   "metadata": {}
  },
  {
   "cell_type": "code",
   "execution_count": null,
   "source": [],
   "outputs": [],
   "metadata": {}
  },
  {
   "cell_type": "code",
   "execution_count": 7,
   "source": [
    "exported_files_list = glob.glob(exported_files_pattern + '*.csv')\r\n",
    "exported_files_list"
   ],
   "outputs": [
    {
     "output_type": "execute_result",
     "data": {
      "text/plain": [
       "['exported_csv\\\\classificacao_20210610_121302.csv',\n",
       " 'exported_csv\\\\classificacao_20210611_071620.csv',\n",
       " 'exported_csv\\\\classificacao_20210612_232033.csv',\n",
       " 'exported_csv\\\\classificacao_20210614_071007.csv',\n",
       " 'exported_csv\\\\classificacao_20210615_232243.csv',\n",
       " 'exported_csv\\\\classificacao_20210617_062647.csv',\n",
       " 'exported_csv\\\\classificacao_20210617_225935.csv',\n",
       " 'exported_csv\\\\classificacao_20210617_234313.csv',\n",
       " 'exported_csv\\\\classificacao_20210618_064118.csv',\n",
       " 'exported_csv\\\\classificacao_20210619_083226.csv',\n",
       " 'exported_csv\\\\classificacao_20210620_003215.csv',\n",
       " 'exported_csv\\\\classificacao_20210620_232838.csv',\n",
       " 'exported_csv\\\\classificacao_20210621_215847.csv',\n",
       " 'exported_csv\\\\classificacao_20210623_080729.csv',\n",
       " 'exported_csv\\\\classificacao_20210624_100536.csv',\n",
       " 'exported_csv\\\\classificacao_20210625_001003.csv',\n",
       " 'exported_csv\\\\classificacao_20210626_111350.csv',\n",
       " 'exported_csv\\\\classificacao_20210627_082850.csv',\n",
       " 'exported_csv\\\\classificacao_20210628_004931.csv',\n",
       " 'exported_csv\\\\classificacao_20210629_071109.csv',\n",
       " 'exported_csv\\\\classificacao_20210630_065651.csv',\n",
       " 'exported_csv\\\\classificacao_20210701_071250.csv',\n",
       " 'exported_csv\\\\classificacao_20210702_072729.csv',\n",
       " 'exported_csv\\\\classificacao_20210703_135712.csv',\n",
       " 'exported_csv\\\\classificacao_20210704_100704.csv',\n",
       " 'exported_csv\\\\classificacao_20210705_071531.csv',\n",
       " 'exported_csv\\\\classificacao_20210706_070111.csv',\n",
       " 'exported_csv\\\\classificacao_20210707_064100.csv',\n",
       " 'exported_csv\\\\classificacao_20210708_080020.csv',\n",
       " 'exported_csv\\\\classificacao_20210709_071402.csv',\n",
       " 'exported_csv\\\\classificacao_20210710_022540.csv',\n",
       " 'exported_csv\\\\classificacao_20210711_122128.csv',\n",
       " 'exported_csv\\\\classificacao_20210712_084254.csv',\n",
       " 'exported_csv\\\\classificacao_20210713_074623.csv',\n",
       " 'exported_csv\\\\classificacao_20210714_071105.csv',\n",
       " 'exported_csv\\\\classificacao_20210715_073629.csv',\n",
       " 'exported_csv\\\\classificacao_20210716_112705.csv',\n",
       " 'exported_csv\\\\classificacao_20210717_090820.csv',\n",
       " 'exported_csv\\\\classificacao_20210718_100026.csv',\n",
       " 'exported_csv\\\\classificacao_20210719_064013.csv',\n",
       " 'exported_csv\\\\classificacao_20210720_063443.csv',\n",
       " 'exported_csv\\\\classificacao_20210721_185307.csv',\n",
       " 'exported_csv\\\\classificacao_20210722_065642.csv',\n",
       " 'exported_csv\\\\classificacao_20210723_072453.csv',\n",
       " 'exported_csv\\\\classificacao_20210724_150115.csv',\n",
       " 'exported_csv\\\\classificacao_20210725_000738.csv',\n",
       " 'exported_csv\\\\classificacao_20210726_073007.csv',\n",
       " 'exported_csv\\\\classificacao_20210727_064912.csv',\n",
       " 'exported_csv\\\\classificacao_20210728_071229.csv',\n",
       " 'exported_csv\\\\classificacao_20210729_073218.csv',\n",
       " 'exported_csv\\\\classificacao_20210730_073300.csv',\n",
       " 'exported_csv\\\\classificacao_20210731_090708.csv',\n",
       " 'exported_csv\\\\classificacao_20210801_003722.csv',\n",
       " 'exported_csv\\\\classificacao_20210802_054813.csv',\n",
       " 'exported_csv\\\\classificacao_20210803_071039.csv',\n",
       " 'exported_csv\\\\classificacao_20210804_073305.csv',\n",
       " 'exported_csv\\\\classificacao_20210805_074006.csv',\n",
       " 'exported_csv\\\\classificacao_20210806_045741.csv',\n",
       " 'exported_csv\\\\classificacao_20210807_111937.csv',\n",
       " 'exported_csv\\\\classificacao_20210808_091117.csv',\n",
       " 'exported_csv\\\\classificacao_20210809_072115.csv',\n",
       " 'exported_csv\\\\classificacao_20210810_071751.csv',\n",
       " 'exported_csv\\\\classificacao_20210810_212751.csv',\n",
       " 'exported_csv\\\\classificacao_20210810_213032.csv',\n",
       " 'exported_csv\\\\classificacao_20210811_062137.csv',\n",
       " 'exported_csv\\\\classificacao_20210812_071747.csv',\n",
       " 'exported_csv\\\\classificacao_20210813_071034.csv',\n",
       " 'exported_csv\\\\classificacao_20210814_101220.csv',\n",
       " 'exported_csv\\\\classificacao_20210815_121621.csv',\n",
       " 'exported_csv\\\\classificacao_20210816_071404.csv',\n",
       " 'exported_csv\\\\classificacao_20210817_071839.csv',\n",
       " 'exported_csv\\\\classificacao_20210818_072027.csv',\n",
       " 'exported_csv\\\\classificacao_20210819_082726.csv',\n",
       " 'exported_csv\\\\classificacao_20210820_072919.csv',\n",
       " 'exported_csv\\\\classificacao_20210821_104359.csv']"
      ]
     },
     "metadata": {},
     "execution_count": 7
    }
   ],
   "metadata": {}
  },
  {
   "cell_type": "code",
   "execution_count": null,
   "source": [],
   "outputs": [],
   "metadata": {}
  }
 ],
 "metadata": {
  "orig_nbformat": 4,
  "language_info": {
   "name": "python",
   "version": "3.9.6",
   "mimetype": "text/x-python",
   "codemirror_mode": {
    "name": "ipython",
    "version": 3
   },
   "pygments_lexer": "ipython3",
   "nbconvert_exporter": "python",
   "file_extension": ".py"
  },
  "kernelspec": {
   "name": "python3",
   "display_name": "Python 3.9.6 64-bit ('base': conda)"
  },
  "interpreter": {
   "hash": "b3784a48f9e1842949e8d463f4028cf5118caef13483594195ca9fa80cb2d8fb"
  }
 },
 "nbformat": 4,
 "nbformat_minor": 2
}