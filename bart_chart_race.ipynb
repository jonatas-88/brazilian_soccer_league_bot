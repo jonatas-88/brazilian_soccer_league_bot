{
 "cells": [
  {
   "cell_type": "code",
   "execution_count": 1,
   "source": [
    "import os\r\n",
    "import configparser\r\n",
    "import glob\r\n",
    "import pandas as pd\r\n",
    "import ffmpeg\r\n",
    "import matplotlib\r\n",
    "from datetime import datetime\r\n",
    "import bar_chart_race as bcr\r\n",
    "\r\n",
    "init_config_file_name = 'bot_campeonato_brasileiro_2021.ini'\r\n",
    "\r\n",
    "#IMPORT CONFIG FROM FILE .INI\r\n",
    "#cwd = os.path.dirname(sys.argv[0]) #working on linux server or windows python script\r\n",
    "cwd = os.getcwd() #working on windows during python notebook execution\r\n",
    "cfg = configparser.ConfigParser()\r\n",
    "ini_config_path = os.path.join(cwd,init_config_file_name)\r\n",
    "cfg.read(ini_config_path)\r\n",
    "exported_folder = cfg['general_config']['exported_folder']\r\n",
    "bar_chart_race_video_folder = cfg['general_config']['bar_chart_race_video_folder']\r\n",
    "pattern_name_positions = cfg['general_config']['pattern_name_positions']"
   ],
   "outputs": [],
   "metadata": {}
  },
  {
   "cell_type": "code",
   "execution_count": 2,
   "source": [
    "#FUNCTIONS\r\n",
    "#FUNCTION TO TRANSFORM EACH CSV INTO DATAFRAME\r\n",
    "def transform_data_frame(csv_file,act_serie,act_factor):\r\n",
    "    #IDENTIFY FILE DATE PATTERN\r\n",
    "    file_date = csv_file.removeprefix(exported_files_pattern)\r\n",
    "    file_date = file_date.removesuffix('.csv')\r\n",
    "    file_date = datetime.strptime(file_date, '%Y%m%d_%H%M%S').strftime('%Y-%m-%d %H:%M:%S')\r\n",
    "    #TRANSFORM DATA FRAME\r\n",
    "    df = pd.read_csv(csv_file)\r\n",
    "    df = df[df.serie == act_serie]\r\n",
    "    df = df[['colocacao', 'nome']]\r\n",
    "    count_items = len(df['nome'])\r\n",
    "    df['colocacao'] = df['colocacao'].apply(lambda x: (count_items - x) + (act_factor * count_items))\r\n",
    "    df = df.set_index('nome')\r\n",
    "    df = df.sort_index()\r\n",
    "    df = df.rename(columns={'colocacao': file_date})\r\n",
    "    df = df.T\r\n",
    "    return df"
   ],
   "outputs": [],
   "metadata": {}
  },
  {
   "cell_type": "code",
   "execution_count": 3,
   "source": [
    "#READING CSV FILES FROM FOLDER\r\n",
    "exported_files_pattern = os.path.join(exported_folder,pattern_name_positions)\r\n",
    "exported_files_list = glob.glob(exported_files_pattern + '*.csv')"
   ],
   "outputs": [],
   "metadata": {}
  },
  {
   "cell_type": "code",
   "execution_count": 4,
   "source": [
    "#CREATE DATA FRAME FROM CSV FILES WITH DATA TRANFORMED\r\n",
    "df_list = []\r\n",
    "act_serie = 'a'\r\n",
    "for key, item in enumerate(exported_files_list):\r\n",
    "    csv_file = item\r\n",
    "    act_factor = key\r\n",
    "    df_act = transform_data_frame(csv_file,act_serie,act_factor)\r\n",
    "    df_list.append(df_act)\r\n",
    "df_final = pd.concat(df_list)"
   ],
   "outputs": [],
   "metadata": {}
  },
  {
   "cell_type": "code",
   "execution_count": 5,
   "source": [
    "#EXPORT VIDEO FILE\r\n",
    "time_now = datetime.now().strftime(\"%Y%m%d_%H%M%S\")\r\n",
    "file_name = os.path.join(bar_chart_race_video_folder, 'bar_chart_race_' + time_now + '.mp4')\r\n",
    "bcr.bar_chart_race(\r\n",
    "    df=df_final,\r\n",
    "    filename=file_name,\r\n",
    "    n_bars=10,\r\n",
    "    fixed_max=True,\r\n",
    "    )"
   ],
   "outputs": [
    {
     "output_type": "stream",
     "name": "stderr",
     "text": [
      "C:\\Users\\jonat\\miniconda3\\lib\\site-packages\\bar_chart_race\\_make_chart.py:286: UserWarning: FixedFormatter should only be used together with FixedLocator\n",
      "  ax.set_yticklabels(self.df_values.columns)\n",
      "C:\\Users\\jonat\\miniconda3\\lib\\site-packages\\bar_chart_race\\_make_chart.py:287: UserWarning: FixedFormatter should only be used together with FixedLocator\n",
      "  ax.set_xticklabels([max_val] * len(ax.get_xticks()))\n",
      "C:\\Users\\jonat\\miniconda3\\lib\\site-packages\\bar_chart_race\\_make_chart.py:226: UserWarning: Some of your columns never make an appearance in the animation. To reduce color repetition, set `filter_column_colors` to `True`\n",
      "  warnings.warn(\"Some of your columns never make an appearance in the animation. \"\n"
     ]
    }
   ],
   "metadata": {}
  },
  {
   "cell_type": "code",
   "execution_count": null,
   "source": [],
   "outputs": [],
   "metadata": {}
  },
  {
   "cell_type": "code",
   "execution_count": null,
   "source": [],
   "outputs": [],
   "metadata": {}
  }
 ],
 "metadata": {
  "orig_nbformat": 4,
  "language_info": {
   "name": "python",
   "version": "3.9.6",
   "mimetype": "text/x-python",
   "codemirror_mode": {
    "name": "ipython",
    "version": 3
   },
   "pygments_lexer": "ipython3",
   "nbconvert_exporter": "python",
   "file_extension": ".py"
  },
  "kernelspec": {
   "name": "python3",
   "display_name": "Python 3.9.6 64-bit ('base': conda)"
  },
  "interpreter": {
   "hash": "b3784a48f9e1842949e8d463f4028cf5118caef13483594195ca9fa80cb2d8fb"
  }
 },
 "nbformat": 4,
 "nbformat_minor": 2
}