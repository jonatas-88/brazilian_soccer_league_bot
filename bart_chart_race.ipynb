{
 "cells": [
  {
   "cell_type": "code",
   "execution_count": null,
   "source": [
    "import os\r\n",
    "import configparser\r\n",
    "import glob\r\n",
    "import pandas as pd\r\n",
    "import ffmpeg\r\n",
    "import matplotlib\r\n",
    "from datetime import datetime\r\n",
    "import bar_chart_race as bcr\r\n",
    "\r\n",
    "init_config_file_name = 'bot_campeonato_brasileiro_2021.ini'\r\n",
    "\r\n",
    "#IMPORT CONFIG FROM FILE .INI\r\n",
    "#cwd = os.path.dirname(sys.argv[0]) #working on linux server or windows python script\r\n",
    "cwd = os.getcwd() #working on windows during python notebook execution\r\n",
    "cfg = configparser.ConfigParser()\r\n",
    "ini_config_path = os.path.join(cwd,init_config_file_name)\r\n",
    "cfg.read(ini_config_path)\r\n",
    "exported_folder = cfg['general_config']['exported_folder']\r\n",
    "bar_chart_race_video_folder = cfg['general_config']['bar_chart_race_video_folder']\r\n",
    "pattern_name_positions = cfg['general_config']['pattern_name_positions']\r\n",
    "pattern_name_general_classification = cfg['general_config']['pattern_name_general_classification']\r\n",
    "max_pos = int(cfg['general_config']['max_pos'])\r\n",
    "max_pos_sum = sum([x for x in range(max_pos,0,-1)][:5])"
   ],
   "outputs": [],
   "metadata": {}
  },
  {
   "cell_type": "code",
   "execution_count": null,
   "source": [
    "#FUNCTIONS\r\n",
    "#FUNCTION TO TRANSFORM EACH CSV INTO DATAFRAME\r\n",
    "def transform_data_frame_pos(csv_file,act_serie,act_factor):\r\n",
    "    #IDENTIFY FILE DATE PATTERN\r\n",
    "    file_date = csv_file.removeprefix(exported_files_pattern_pos)\r\n",
    "    file_date = file_date.removesuffix('.csv')\r\n",
    "    file_date = datetime.strptime(file_date, '%Y%m%d_%H%M%S').strftime('%Y-%m-%d %H:%M:%S')\r\n",
    "    #TRANSFORM DATA FRAME\r\n",
    "    df = pd.read_csv(csv_file)\r\n",
    "    df = df[df.serie == act_serie]\r\n",
    "    df = df[['colocacao', 'nome']]\r\n",
    "    count_items = len(df['nome'])\r\n",
    "    df['colocacao'] = df['colocacao'].apply(lambda x: (count_items - x) + (act_factor * count_items))\r\n",
    "    df = df.set_index('nome')\r\n",
    "    df = df.sort_index()\r\n",
    "    df = df.rename(columns={'colocacao': file_date})\r\n",
    "    df = df.T\r\n",
    "    return df"
   ],
   "outputs": [],
   "metadata": {}
  },
  {
   "cell_type": "code",
   "execution_count": null,
   "source": [
    "#READING CSV FILES FROM FOLDER\r\n",
    "exported_files_pattern_pos = os.path.join(exported_folder,pattern_name_positions)\r\n",
    "exported_files_pattern_gen_class = os.path.join(exported_folder,pattern_name_general_classification)\r\n",
    "exported_files_list = glob.glob(exported_files_pattern_pos + '*.csv')"
   ],
   "outputs": [],
   "metadata": {}
  },
  {
   "cell_type": "code",
   "execution_count": null,
   "source": [
    "#CREATE DATA FRAME FROM CSV FILES WITH DATA TRANFORMED\r\n",
    "df_list = []\r\n",
    "act_serie = 'a'\r\n",
    "for key, item in enumerate(exported_files_list):\r\n",
    "    csv_file = item\r\n",
    "    act_factor = key\r\n",
    "    df_act = transform_data_frame_pos(csv_file,act_serie,act_factor)\r\n",
    "    df_list.append(df_act)\r\n",
    "df_final = pd.concat(df_list)"
   ],
   "outputs": [],
   "metadata": {}
  },
  {
   "cell_type": "code",
   "execution_count": null,
   "source": [
    "#EXPORT VIDEO FILE\r\n",
    "time_now = datetime.now().strftime(\"%Y%m%d_%H%M%S\")\r\n",
    "file_name = os.path.join(bar_chart_race_video_folder, 'bar_chart_race_' + time_now + '.mp4')\r\n",
    "bcr.bar_chart_race(\r\n",
    "    df=df_final,\r\n",
    "    filename=file_name,\r\n",
    "    n_bars=10,\r\n",
    "    fixed_max=True,\r\n",
    "    )"
   ],
   "outputs": [],
   "metadata": {}
  },
  {
   "cell_type": "code",
   "execution_count": null,
   "source": [],
   "outputs": [],
   "metadata": {}
  },
  {
   "cell_type": "code",
   "execution_count": null,
   "source": [
    "exported_files_list = glob.glob(exported_files_pattern_gen_class + '*.csv')\r\n",
    "exported_files_list"
   ],
   "outputs": [],
   "metadata": {}
  },
  {
   "cell_type": "code",
   "execution_count": null,
   "source": [
    "exported_files_list[77]"
   ],
   "outputs": [],
   "metadata": {}
  },
  {
   "cell_type": "code",
   "execution_count": null,
   "source": [
    "\r\n",
    "csv_file = exported_files_list[77]\r\n",
    "act_serie = 'a'\r\n",
    "act_factor = 10\r\n",
    "\r\n",
    "\r\n",
    "#IDENTIFY FILE DATE PATTERN\r\n",
    "file_date = csv_file.removeprefix(exported_files_pattern_gen_class)\r\n",
    "file_date = file_date.removesuffix('.csv')\r\n",
    "file_date = datetime.strptime(file_date, '%Y%m%d_%H%M%S').strftime('%Y-%m-%d %H:%M:%S')\r\n",
    "#TRANSFORM DATA FRAME\r\n",
    "df = pd.read_csv(csv_file)\r\n",
    "df = df[df.serie == act_serie]\r\n",
    "df = df[['nome', 'soma_pontos', 'soma_posicao', 'pos1', 'pos2', 'pos3', 'pos4', 'pos5']]\r\n",
    "df.head()\r\n",
    "#usar o max_pos_sum com n casas de acordo com o tamanho dele, para o soma_posicao\r\n",
    "\r\n",
    "#usar o max_pos para todos os posx\r\n",
    "\r\n",
    "#count_items = len(df['nome'])\r\n",
    "#df['colocacao'] = df['colocacao'].apply(lambda x: (count_items - x) + (act_factor * count_items))\r\n",
    "#df = df.set_index('nome')\r\n",
    "#df = df.sort_index()\r\n",
    "#df = df.rename(columns={'colocacao': file_date})\r\n",
    "#df = df.T"
   ],
   "outputs": [],
   "metadata": {}
  },
  {
   "cell_type": "code",
   "execution_count": null,
   "source": [
    "max_pos"
   ],
   "outputs": [],
   "metadata": {}
  },
  {
   "cell_type": "code",
   "execution_count": null,
   "source": [
    "max_pos_sum"
   ],
   "outputs": [],
   "metadata": {}
  },
  {
   "cell_type": "code",
   "execution_count": null,
   "source": [],
   "outputs": [],
   "metadata": {}
  },
  {
   "cell_type": "code",
   "execution_count": null,
   "source": [
    "#tem que limitar as casas aqui, porque o 20 - 16, vira só 4, quando deveria ser 04\r\n",
    "\r\n",
    "df_test = df.copy()\r\n",
    "df_test['new_col'] = df_test.apply(lambda x: \r\n",
    "    int(\r\n",
    "        str(x.soma_pontos) + \r\n",
    "        str(max_pos_sum - x.soma_posicao) +\r\n",
    "        str(max_pos - x.pos1) +\r\n",
    "        str(max_pos - x.pos2) +\r\n",
    "        str(max_pos - x.pos3) +\r\n",
    "        str(max_pos - x.pos4) +\r\n",
    "        str(max_pos - x.pos5)\r\n",
    "    )\r\n",
    "    , axis=1\r\n",
    ")\r\n",
    "df_test"
   ],
   "outputs": [],
   "metadata": {}
  },
  {
   "cell_type": "code",
   "execution_count": null,
   "source": [
    "df.columns"
   ],
   "outputs": [],
   "metadata": {}
  },
  {
   "cell_type": "code",
   "execution_count": null,
   "source": [
    "idx = 0\r\n",
    "int(\r\n",
    "    str(df.iloc[idx].soma_pontos) + \r\n",
    "    str(max_pos_sum - df.iloc[idx].soma_posicao) +\r\n",
    "    str(max_pos - df.iloc[idx].pos1) +\r\n",
    "    str(max_pos - df.iloc[idx].pos2) +\r\n",
    "    str(max_pos - df.iloc[idx].pos3) +\r\n",
    "    str(max_pos - df.iloc[idx].pos4) +\r\n",
    "    str(max_pos - df.iloc[idx].pos5)\r\n",
    ")"
   ],
   "outputs": [],
   "metadata": {}
  },
  {
   "cell_type": "code",
   "execution_count": null,
   "source": [],
   "outputs": [],
   "metadata": {}
  }
 ],
 "metadata": {
  "orig_nbformat": 4,
  "language_info": {
   "name": "python",
   "version": "3.9.6",
   "mimetype": "text/x-python",
   "codemirror_mode": {
    "name": "ipython",
    "version": 3
   },
   "pygments_lexer": "ipython3",
   "nbconvert_exporter": "python",
   "file_extension": ".py"
  },
  "kernelspec": {
   "name": "python3",
   "display_name": "Python 3.9.6 64-bit ('base': conda)"
  },
  "interpreter": {
   "hash": "b3784a48f9e1842949e8d463f4028cf5118caef13483594195ca9fa80cb2d8fb"
  }
 },
 "nbformat": 4,
 "nbformat_minor": 2
}