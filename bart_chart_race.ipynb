{
 "cells": [
  {
   "cell_type": "code",
   "execution_count": null,
   "source": [
    "import os\n",
    "import configparser\n",
    "import glob\n",
    "import pandas as pd\n",
    "import ffmpeg\n",
    "import matplotlib\n",
    "from datetime import datetime\n",
    "import bar_chart_race as bcr\n",
    "\n",
    "init_config_file_name = 'bot_campeonato_brasileiro_2021.ini'\n",
    "\n",
    "#IMPORT CONFIG FROM FILE .INI\n",
    "#cwd = os.path.dirname(sys.argv[0]) #working on linux server or windows python script\n",
    "cwd = os.getcwd() #working on windows during python notebook execution\n",
    "cfg = configparser.ConfigParser()\n",
    "ini_config_path = os.path.join(cwd,init_config_file_name)\n",
    "cfg.read(ini_config_path)\n",
    "exported_folder = cfg['general_config']['exported_folder']\n",
    "bar_chart_race_video_folder = cfg['general_config']['bar_chart_race_video_folder']\n",
    "pattern_name_positions = cfg['general_config']['pattern_name_positions']\n",
    "pattern_name_general_classification = cfg['general_config']['pattern_name_general_classification']\n",
    "max_pos = int(cfg['general_config']['max_pos'])\n",
    "max_pos_sum = sum([x for x in range(max_pos,0,-1)][:5])"
   ],
   "outputs": [],
   "metadata": {}
  },
  {
   "cell_type": "code",
   "execution_count": null,
   "source": [
    "#FUNCTIONS\n",
    "#FUNCTION TO TRANSFORM EACH CSV INTO DATAFRAME\n",
    "def transform_data_frame_pos(csv_file,act_serie,act_factor):\n",
    "    #IDENTIFY FILE DATE PATTERN\n",
    "    file_date = csv_file.removeprefix(exported_files_pattern_pos)\n",
    "    file_date = file_date.removesuffix('.csv')\n",
    "    file_date = datetime.strptime(file_date, '%Y%m%d_%H%M%S').strftime('%Y-%m-%d %H:%M:%S')\n",
    "    #TRANSFORM DATA FRAME\n",
    "    df = pd.read_csv(csv_file)\n",
    "    df = df[df.serie == act_serie]\n",
    "    df = df[['colocacao', 'nome']]\n",
    "    count_items = len(df['nome'])\n",
    "    df['colocacao'] = df['colocacao'].apply(lambda x: (count_items - x) + (act_factor * count_items))\n",
    "    df = df.set_index('nome')\n",
    "    df = df.sort_index()\n",
    "    df = df.rename(columns={'colocacao': file_date})\n",
    "    df = df.T\n",
    "    return df\n",
    "\n",
    "#FUNCTION TO TRANSFORM EACH CSV INTO DATAFRAME\n",
    "def transform_data_frame_pos2(csv_file,act_serie,act_factor):\n",
    "    #IDENTIFY FILE DATE PATTERN\n",
    "    file_date = csv_file.removeprefix(exported_files_pattern_gen_class)\n",
    "    file_date = file_date.removesuffix('.csv')\n",
    "    file_date = datetime.strptime(file_date, '%Y%m%d_%H%M%S').strftime('%Y-%m-%d')\n",
    "    #TRANSFORM DATA FRAME\n",
    "    df = pd.read_csv(csv_file)\n",
    "    df = df[df.serie == act_serie]\n",
    "    df = df[['nome', 'soma_pontos', 'soma_posicao', 'pos1', 'pos2', 'pos3', 'pos4', 'pos5']]\n",
    "    #CREATE NEW COLUMN\n",
    "    df['pontuacao'] = df.apply(lambda x: \n",
    "        float(\n",
    "            str(x.soma_pontos) + '.' + \n",
    "            '{:02d}'.format(max_pos_sum - x.soma_posicao) +\n",
    "            '{:02d}'.format(max_pos - x.pos1) +\n",
    "            '{:02d}'.format(max_pos - x.pos2) +\n",
    "            '{:02d}'.format(max_pos - x.pos3) +\n",
    "            '{:02d}'.format(max_pos - x.pos4) +\n",
    "            '{:02d}'.format(max_pos - x.pos5)\n",
    "        )\n",
    "        , axis=1\n",
    "    )\n",
    "    df = df[['pontuacao', 'nome']]\n",
    "    df = df.set_index('nome')\n",
    "    df = df.sort_index()\n",
    "    df = df.rename(columns={'pontuacao': file_date})\n",
    "    df = df.T\n",
    "    return df"
   ],
   "outputs": [],
   "metadata": {}
  },
  {
   "cell_type": "code",
   "execution_count": null,
   "source": [
    "#READING CSV FILES FROM FOLDER\r\n",
    "exported_files_pattern_pos = os.path.join(exported_folder,pattern_name_positions)\r\n",
    "exported_files_pattern_gen_class = os.path.join(exported_folder,pattern_name_general_classification)\r\n",
    "#exported_files_list = glob.glob(exported_files_pattern_pos + '*.csv')\r\n",
    "exported_files_list = glob.glob(exported_files_pattern_gen_class + '*.csv')"
   ],
   "outputs": [],
   "metadata": {}
  },
  {
   "cell_type": "code",
   "execution_count": null,
   "source": [
    "#CREATE DATA FRAME FROM CSV FILES WITH DATA TRANFORMED\r\n",
    "df_list = []\r\n",
    "act_serie = 'b'\r\n",
    "for key, item in enumerate(exported_files_list):\r\n",
    "    csv_file = item\r\n",
    "    act_factor = key\r\n",
    "    df_act = transform_data_frame_pos2(csv_file,act_serie,act_factor)\r\n",
    "    df_list.append(df_act)\r\n",
    "df_final = pd.concat(df_list)\r\n",
    "df_final = df_final.drop_duplicates()"
   ],
   "outputs": [],
   "metadata": {}
  },
  {
   "cell_type": "code",
   "execution_count": null,
   "source": [
    "#EXPORT VIDEO FILE\r\n",
    "time_now = datetime.now().strftime(\"%Y%m%d_%H%M%S\")\r\n",
    "file_name = os.path.join(bar_chart_race_video_folder, 'bar_chart_race_' + time_now + '.mp4')\r\n",
    "bcr.bar_chart_race(\r\n",
    "    df=df_final,\r\n",
    "    filename=file_name,\r\n",
    "    title='Corrida do Bolão do Campeonato Brasileiro - Série ' + act_serie.upper(), #title\r\n",
    "    figsize=(6, 4),\r\n",
    "    #dpi=130,\r\n",
    "    n_bars=18,\r\n",
    "    fixed_max=True,\r\n",
    "    steps_per_period=25,\r\n",
    "    period_length=400,\r\n",
    "    cmap='Dark24', #color map: Antique, Dark24\r\n",
    "    interpolate_period=False,\r\n",
    "    bar_size=.80,\r\n",
    "    period_label={'x': .98, 'y': .05, 'ha': 'right'},\r\n",
    "    #filter_column_colors=True,\r\n",
    "    )"
   ],
   "outputs": [],
   "metadata": {}
  },
  {
   "cell_type": "code",
   "execution_count": null,
   "source": [
    "#deixar tudo como função num .py\r\n",
    "#criar no bot a opção de pedir o ultimo video disponivel (serie a ou b)\r\n",
    "#colocar um scheduler para gerar o video atualizado"
   ],
   "outputs": [],
   "metadata": {}
  }
 ],
 "metadata": {
  "orig_nbformat": 4,
  "language_info": {
   "name": "python",
   "version": "3.9.6",
   "mimetype": "text/x-python",
   "codemirror_mode": {
    "name": "ipython",
    "version": 3
   },
   "pygments_lexer": "ipython3",
   "nbconvert_exporter": "python",
   "file_extension": ".py"
  },
  "kernelspec": {
   "name": "python3",
   "display_name": "Python 3.9.6 64-bit ('base': conda)"
  },
  "interpreter": {
   "hash": "7180f594f19939a03b1d077ae20d419e4526ae13bb706a5cac1801ad3a99f48e"
  }
 },
 "nbformat": 4,
 "nbformat_minor": 2
}